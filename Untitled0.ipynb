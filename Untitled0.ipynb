{
  "cells": [
    {
      "cell_type": "code",
      "execution_count": 6,
      "metadata": {
        "colab": {
          "base_uri": "https://localhost:8080/"
        },
        "id": "Gmvg6oPVFk6W",
        "outputId": "99ea67f4-adcc-4304-a876-ada09b2102d3"
      },
      "outputs": [
        {
          "name": "stdout",
          "output_type": "stream",
          "text": [
            "8\n",
            "`3+5`\n"
          ]
        }
      ],
      "source": [
        "print(3+5) # bu bir sayisal ifadedir\n",
        "print(\"`3+5`\") #bu bir string ifadedir"
      ]
    },
    {
      "cell_type": "code",
      "execution_count": 10,
      "metadata": {},
      "outputs": [
        {
          "name": "stdout",
          "output_type": "stream",
          "text": [
            "birinci satir\n",
            "ikinci satir\n",
            "ucuncu satir\n"
          ]
        }
      ],
      "source": [
        "print(\"\"\"birinci satir\n",
        "ikinci satir\n",
        "ucuncu satir\"\"\")"
      ]
    },
    {
      "cell_type": "code",
      "execution_count": 7,
      "metadata": {},
      "outputs": [
        {
          "name": "stdout",
          "output_type": "stream",
          "text": [
            "mehmet`in kalemi\n"
          ]
        }
      ],
      "source": [
        "print(\"mehmet`in kalemi\")"
      ]
    },
    {
      "cell_type": "code",
      "execution_count": 3,
      "metadata": {},
      "outputs": [
        {
          "name": "stdout",
          "output_type": "stream",
          "text": [
            "Benim adim Gonul\n"
          ]
        }
      ],
      "source": [
        "print(\"Benim adim Isim\")"
      ]
    },
    {
      "cell_type": "code",
      "execution_count": 4,
      "metadata": {},
      "outputs": [
        {
          "name": "stdout",
          "output_type": "stream",
          "text": [
            "3+5 in sonucu 8dir\n"
          ]
        }
      ],
      "source": [
        "print(\"3+5 in sonucu 8dir\")"
      ]
    }
  ],
  "metadata": {
    "colab": {
      "provenance": []
    },
    "kernelspec": {
      "display_name": "Python 3",
      "name": "python3"
    },
    "language_info": {
      "codemirror_mode": {
        "name": "ipython",
        "version": 3
      },
      "file_extension": ".py",
      "mimetype": "text/x-python",
      "name": "python",
      "nbconvert_exporter": "python",
      "pygments_lexer": "ipython3",
      "version": "3.13.1"
    }
  },
  "nbformat": 4,
  "nbformat_minor": 0
}
