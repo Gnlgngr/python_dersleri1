{
 "cells": [
  {
   "cell_type": "code",
   "execution_count": 3,
   "metadata": {},
   "outputs": [],
   "source": []
  },
  {
   "cell_type": "markdown",
   "metadata": {},
   "source": [
    "# pep8\n",
    "## pep8\n",
    "### pep8"
   ]
  },
  {
   "cell_type": "code",
   "execution_count": 4,
   "metadata": {},
   "outputs": [
    {
     "data": {
      "text/plain": [
       "11"
      ]
     },
     "execution_count": 4,
     "metadata": {},
     "output_type": "execute_result"
    }
   ],
   "source": [
    "3+8"
   ]
  },
  {
   "cell_type": "code",
   "execution_count": 6,
   "metadata": {},
   "outputs": [
    {
     "name": "stdout",
     "output_type": "stream",
     "text": [
      "isim1\n"
     ]
    }
   ],
   "source": [
    "isim=\"isim1\"\n",
    "print(isim)"
   ]
  },
  {
   "cell_type": "code",
   "execution_count": 6,
   "metadata": {},
   "outputs": [
    {
     "name": "stdout",
     "output_type": "stream",
     "text": [
      "201240\n"
     ]
    }
   ],
   "source": [
    "a=520\n",
    "b=387\n",
    "print(a*b)"
   ]
  },
  {
   "cell_type": "code",
   "execution_count": 5,
   "metadata": {},
   "outputs": [
    {
     "name": "stdout",
     "output_type": "stream",
     "text": [
      "benim adim isim degil\n"
     ]
    }
   ],
   "source": [
    "a=\"benim adim\"\n",
    "b=\"isim\"\n",
    "c=\"degil\"\n",
    "print(a,b,c)"
   ]
  },
  {
   "cell_type": "code",
   "execution_count": 2,
   "metadata": {},
   "outputs": [
    {
     "name": "stdout",
     "output_type": "stream",
     "text": [
      "1988\n",
      "Dogum tarihiniz  1988 tir.\n"
     ]
    }
   ],
   "source": [
    "yasiniz = 37\n",
    "yil = 2025\n",
    "dt = yil - yasiniz\n",
    "print(dt)\n",
    "print(\"Dogum tarihiniz \", dt, \"tir.\")\n"
   ]
  },
  {
   "cell_type": "code",
   "execution_count": 3,
   "metadata": {},
   "outputs": [
    {
     "name": "stdout",
     "output_type": "stream",
     "text": [
      "isim un yasi 58 tir.\n"
     ]
    }
   ],
   "source": [
    "isim=\"isim\"\n",
    "yas=37\n",
    "yas=58 #en son degisken hangisi ise onu yazdirir.\n",
    "print(isim,\"un yasi\", yas,\"tir.\")  #eger yas degerini printden sonra yazarsak hata verir."
   ]
  },
  {
   "cell_type": "code",
   "execution_count": 4,
   "metadata": {},
   "outputs": [],
   "source": [
    "name1=\"isim1\"\n",
    "name_2=\"isim2\"\n",
    "name3=\"isim3\"  #degisken isimleri sayi,isaretlerle ve - ile calismaz."
   ]
  },
  {
   "cell_type": "code",
   "execution_count": 7,
   "metadata": {},
   "outputs": [
    {
     "name": "stdout",
     "output_type": "stream",
     "text": [
      "isim\n"
     ]
    }
   ],
   "source": [
    "name1=\"isim\"\n",
    "print(name1) #eger kucuk harfle tanimladiysam buyuk harfle tanimaz."
   ]
  },
  {
   "cell_type": "markdown",
   "metadata": {},
   "source": []
  },
  {
   "cell_type": "markdown",
   "metadata": {},
   "source": []
  },
  {
   "cell_type": "code",
   "execution_count": 8,
   "metadata": {},
   "outputs": [
    {
     "name": "stdout",
     "output_type": "stream",
     "text": [
      "isim1 in yasi 10 isim2 in yasi 20\n"
     ]
    }
   ],
   "source": [
    "name1=\"isim1\"\n",
    "name2=\"isim2\"\n",
    "age_1=20\n",
    "age_2=10\n",
    "print(name1,\"in yasi\",age_2,name2,\"in yasi\",age_1) #degiskenlere dikkat etmeliyiz."
   ]
  },
  {
   "cell_type": "code",
   "execution_count": 9,
   "metadata": {},
   "outputs": [
    {
     "ename": "TypeError",
     "evalue": "cannot unpack non-iterable int object",
     "output_type": "error",
     "traceback": [
      "\u001b[1;31m---------------------------------------------------------------------------\u001b[0m",
      "\u001b[1;31mTypeError\u001b[0m                                 Traceback (most recent call last)",
      "Cell \u001b[1;32mIn[9], line 2\u001b[0m\n\u001b[0;32m      1\u001b[0m name1,name2\u001b[38;5;241m=\u001b[39m\u001b[38;5;124m\"\u001b[39m\u001b[38;5;124misim1\u001b[39m\u001b[38;5;124m\"\u001b[39m,\u001b[38;5;124m\"\u001b[39m\u001b[38;5;124misim2\u001b[39m\u001b[38;5;124m\"\u001b[39m \u001b[38;5;66;03m#3. isme degisken tanimlamadigimiz icin hata veriyor\u001b[39;00m\n\u001b[1;32m----> 2\u001b[0m age1,age2,age3\u001b[38;5;241m=\u001b[39m\u001b[38;5;241m20\u001b[39m \u001b[38;5;66;03m#yasta da ayni sekilde\u001b[39;00m\n\u001b[0;32m      3\u001b[0m \u001b[38;5;28mprint\u001b[39m(name1,name2,age1,age2)\n",
      "\u001b[1;31mTypeError\u001b[0m: cannot unpack non-iterable int object"
     ]
    }
   ],
   "source": [
    "name1,name2=\"isim1\",\"isim2\" #3. isme degisken tanimlamadigimiz icin hata veriyor\n",
    "age1,age2,age3=20 #yasta da ayni sekilde\n",
    "print(name1,name2,age1,age2)"
   ]
  },
  {
   "cell_type": "code",
   "execution_count": 26,
   "metadata": {},
   "outputs": [
    {
     "name": "stdout",
     "output_type": "stream",
     "text": [
      "20\n"
     ]
    }
   ],
   "source": [
    "age1=age2=age3=20 \n",
    "print(age1)"
   ]
  },
  {
   "cell_type": "code",
   "execution_count": 41,
   "metadata": {},
   "outputs": [
    {
     "name": "stdout",
     "output_type": "stream",
     "text": [
      "bu ay 28 ceker.\n"
     ]
    }
   ],
   "source": [
    "nisan=haziran=eylul=kasim=30\n",
    "ocak=mart=mayis=temmuz=agustos=ekim=aralik=31\n",
    "subat=28\n",
    "print(\"bu ay\",subat,\"ceker.\")  \n"
   ]
  },
  {
   "cell_type": "code",
   "execution_count": 50,
   "metadata": {},
   "outputs": [
    {
     "name": "stdout",
     "output_type": "stream",
     "text": [
      "<class 'int'>\n",
      "<class 'str'>\n",
      "<class 'float'>\n",
      "<class 'bool'>\n"
     ]
    }
   ],
   "source": [
    "x=3 #tamsayilar integer tipidir\n",
    "y=\"whatabi\" #tirnak ici ifade string tipidir.\n",
    "z=3.14  #ondalik sayilar float tipidir\n",
    "print(type(x))\n",
    "print(type(y))\n",
    "print(type(z))\n",
    "print(type(False)) #boolean degeri False ve True dir."
   ]
  },
  {
   "cell_type": "code",
   "execution_count": 66,
   "metadata": {},
   "outputs": [
    {
     "name": "stdout",
     "output_type": "stream",
     "text": [
      "<class 'str'>\n",
      "<class 'int'>\n",
      "<class 'float'>\n",
      "<class 'bool'>\n",
      "Benim volvo modelinde 3 yasinda 70.25 km.de True durumunda arabam var.\n"
     ]
    }
   ],
   "source": [
    "model=\"volvo\"\n",
    "yas=3\n",
    "km=70.25\n",
    "kaza_durumu=True\n",
    "print(type(model))\n",
    "print(type(yas))\n",
    "print(type(km))\n",
    "print(type(True))\n",
    "print(\"Benim\", model,\"modelinde\",yas,\"yasinda\",km,\"km.de\",kaza_durumu, \"durumunda arabam var.\")\n",
    "\n",
    "\n"
   ]
  },
  {
   "cell_type": "code",
   "execution_count": 73,
   "metadata": {},
   "outputs": [
    {
     "ename": "NameError",
     "evalue": "name 'x' is not defined",
     "output_type": "error",
     "traceback": [
      "\u001b[1;31m---------------------------------------------------------------------------\u001b[0m",
      "\u001b[1;31mNameError\u001b[0m                                 Traceback (most recent call last)",
      "Cell \u001b[1;32mIn[73], line 2\u001b[0m\n\u001b[0;32m      1\u001b[0m y\u001b[38;5;241m=\u001b[39m\u001b[38;5;241m7.8\u001b[39m \u001b[38;5;66;03m# x ifadesini sildikten sonra hala ayni sonucu verdi. del x komuduyla x i silmis oluyor\u001b[39;00m\n\u001b[1;32m----> 2\u001b[0m \u001b[38;5;28mprint\u001b[39m(\u001b[43mx\u001b[49m)  \u001b[38;5;66;03m#(ustun devami)ve hata veriyor\u001b[39;00m\n\u001b[0;32m      3\u001b[0m \u001b[38;5;28;01mdel\u001b[39;00m x    \u001b[38;5;66;03m# ramde olup olmadigini kontrol ediyoruz \u001b[39;00m\n\u001b[0;32m      4\u001b[0m \u001b[38;5;28mprint\u001b[39m(x)\n",
      "\u001b[1;31mNameError\u001b[0m: name 'x' is not defined"
     ]
    }
   ],
   "source": [
    "\n",
    "y=7.8 # x ifadesini sildikten sonra hala ayni sonucu verdi. del x komuduyla x i silmis oluyor\n",
    "print(x)  #(ustun devami)ve hata veriyor\n",
    "del x    # ramde olup olmadigini kontrol ediyoruz \n",
    "print(x)"
   ]
  },
  {
   "cell_type": "code",
   "execution_count": 81,
   "metadata": {},
   "outputs": [
    {
     "name": "stdout",
     "output_type": "stream",
     "text": [
      "<class 'int'>\n",
      "70\n",
      "<class 'str'>\n",
      "3535\n"
     ]
    }
   ],
   "source": [
    "age=35\n",
    "print(type(age))\n",
    "print(age+age)\n",
    "\n",
    "age=str(age)  #age i str ifadeye cevirdik \n",
    "print(type(age))   \n",
    "\n",
    "print(age+age)\n",
    "\n"
   ]
  },
  {
   "cell_type": "code",
   "execution_count": 83,
   "metadata": {},
   "outputs": [
    {
     "name": "stdout",
     "output_type": "stream",
     "text": [
      "<class 'int'>\n",
      "70\n",
      "<class 'float'>\n",
      "70.0\n"
     ]
    }
   ],
   "source": [
    "age=35\n",
    "print(type(age))\n",
    "print(age+age)\n",
    "\n",
    "age=float(age) #age i float a donusturduk yani ondalikli sayiya \n",
    "print(type(age))\n",
    "print(age+age)\n"
   ]
  },
  {
   "cell_type": "code",
   "execution_count": 93,
   "metadata": {},
   "outputs": [
    {
     "name": "stdout",
     "output_type": "stream",
     "text": [
      "<class 'float'>\n",
      "71.8\n",
      "<class 'int'>\n",
      "70\n"
     ]
    }
   ],
   "source": [
    "age=35.9\n",
    "print(type(age))   \n",
    "print(age+age)\n",
    "\n",
    "age=int(age)   #int e yani tam sayiya ceviriyoruz. yani virgulden sonraki sayiyi tamamiyle atiyor\n",
    "print(type(age))\n",
    "print(age+age)"
   ]
  },
  {
   "cell_type": "code",
   "execution_count": 4,
   "metadata": {},
   "outputs": [
    {
     "name": "stdout",
     "output_type": "stream",
     "text": [
      "dogdugu yil 1991\n"
     ]
    }
   ],
   "source": [
    "yil=2025\n",
    "yas=\"34.3\"     #noktali str sayiyi direk int e cevirmiyor. ilk float sonra int ceviriyor \n",
    "yas=float(yas)    #tam sayi olsaydi direk int e cevirebiliriz. \n",
    "dy = yil-int(yas)\n",
    "print(\"dogdugu yil\",dy)"
   ]
  },
  {
   "cell_type": "code",
   "execution_count": 15,
   "metadata": {},
   "outputs": [
    {
     "name": "stdout",
     "output_type": "stream",
     "text": [
      "<class 'float'>\n"
     ]
    }
   ],
   "source": [
    "# aritmatik operatorler\n",
    "#islem onceligi parantez ici, uslu sayilar, bolme carpma, toplama cikarma\n",
    "a=int(35/7)   #bolme islemlerinin hepsinin float olarak cikarir.(5.0 olarak yazar)\n",
    "print(type(a))   # int e cevirmeliyiz "
   ]
  },
  {
   "cell_type": "code",
   "execution_count": 21,
   "metadata": {},
   "outputs": [
    {
     "name": "stdout",
     "output_type": "stream",
     "text": [
      "<class 'int'>\n"
     ]
    }
   ],
   "source": [
    "a=40//11  #// iki bolme islemi sonucu int e cevirir. sonuc a=3 olark cikar. 40 in icinde kac tane 11 var a bakiyoruz \n",
    "print(type(a))"
   ]
  },
  {
   "cell_type": "code",
   "execution_count": 23,
   "metadata": {},
   "outputs": [
    {
     "name": "stdout",
     "output_type": "stream",
     "text": [
      "7\n",
      "<class 'int'>\n"
     ]
    }
   ],
   "source": [
    "a=40%11 # bolumunden kalani gosterir sonuc 7. tipi de int dir \n",
    "print(a)\n",
    "print(type(a))"
   ]
  },
  {
   "cell_type": "code",
   "execution_count": 35,
   "metadata": {},
   "outputs": [
    {
     "name": "stdout",
     "output_type": "stream",
     "text": [
      "25\n",
      "125\n",
      "5.0\n"
     ]
    },
    {
     "data": {
      "text/plain": [
       "5.0"
      ]
     },
     "execution_count": 35,
     "metadata": {},
     "output_type": "execute_result"
    }
   ],
   "source": [
    "print(5**2)  # karesini almak icin \n",
    "print(5**3) # kupunu almak icin\n",
    "pow(5,3)   # buda ayni islemi . pyhton in kutuphanesindeki ifade\n",
    "\n",
    "print((25**(1/2)))  #float olarak yazdirdi. \n",
    "\n",
    "pow(125,1/3) #float olarak yazdirdi\n"
   ]
  },
  {
   "cell_type": "code",
   "execution_count": 40,
   "metadata": {},
   "outputs": [
    {
     "name": "stdout",
     "output_type": "stream",
     "text": [
      "254\n"
     ]
    }
   ],
   "source": [
    "r=9\n",
    "alan=(3.14)*(r**2)  # yaricapi 9cm olan dairenin alani\n",
    "print(int(alan)) #sonucu int e cevirdik.\n"
   ]
  },
  {
   "cell_type": "code",
   "execution_count": 42,
   "metadata": {},
   "outputs": [
    {
     "name": "stdout",
     "output_type": "stream",
     "text": [
      "0.0025\n"
     ]
    }
   ],
   "source": [
    "tabankenaruzunlugu=a=5  #ucgenin alanini bul cm den m ye cevir\n",
    "yuksekligi=b=10\n",
    "alan=((a*b)/2)/10000 \n",
    "print(alan)"
   ]
  },
  {
   "cell_type": "code",
   "execution_count": 46,
   "metadata": {},
   "outputs": [
    {
     "name": "stdout",
     "output_type": "stream",
     "text": [
      "dikdortgenin alani 40 cm**2\n"
     ]
    }
   ],
   "source": [
    "a=8  #kenar uzunluklari a ve b olan dikdortgenin alanini hesapla\n",
    "b=5\n",
    "alan=a*b\n",
    "print(\"dikdortgenin alani\",alan,\"cm**2\")"
   ]
  }
 ],
 "metadata": {
  "kernelspec": {
   "display_name": "Python 3",
   "language": "python",
   "name": "python3"
  },
  "language_info": {
   "codemirror_mode": {
    "name": "ipython",
    "version": 3
   },
   "file_extension": ".py",
   "mimetype": "text/x-python",
   "name": "python",
   "nbconvert_exporter": "python",
   "pygments_lexer": "ipython3",
   "version": "3.13.1"
  }
 },
 "nbformat": 4,
 "nbformat_minor": 2
}
