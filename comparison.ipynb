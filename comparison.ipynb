{
 "cells": [
  {
   "cell_type": "code",
   "execution_count": 2,
   "metadata": {},
   "outputs": [
    {
     "name": "stdout",
     "output_type": "stream",
     "text": [
      "True\n",
      "False\n"
     ]
    }
   ],
   "source": [
    "print(10>5)\n",
    "print(10<5)"
   ]
  },
  {
   "cell_type": "code",
   "execution_count": null,
   "metadata": {},
   "outputs": [
    {
     "data": {
      "text/plain": [
       "True"
      ]
     },
     "execution_count": 6,
     "metadata": {},
     "output_type": "execute_result"
    }
   ],
   "source": [
    "password=\"Mypassword\"\n",
    "userpass=input(\"Lutfen sifreyi giriniz:\")\n",
    "password==userpass #pas=user ise atama oluyor. == ise tanimlama oluyor.\n"
   ]
  },
  {
   "cell_type": "code",
   "execution_count": null,
   "metadata": {},
   "outputs": [
    {
     "data": {
      "text/plain": [
       "False"
      ]
     },
     "execution_count": 21,
     "metadata": {},
     "output_type": "execute_result"
    }
   ],
   "source": [
    "6<=6\n",
    "6!=7 # esit degildir \n",
    "# true karsiligi 1 dir\n",
    "# false karsiligi 0 dir"
   ]
  },
  {
   "cell_type": "code",
   "execution_count": 22,
   "metadata": {},
   "outputs": [
    {
     "data": {
      "text/plain": [
       "True"
      ]
     },
     "execution_count": 22,
     "metadata": {},
     "output_type": "execute_result"
    }
   ],
   "source": [
    "# true karsiligi 1 dir\n",
    "# false karsiligi 0 dir\n",
    "True==1"
   ]
  },
  {
   "cell_type": "code",
   "execution_count": 23,
   "metadata": {},
   "outputs": [
    {
     "data": {
      "text/plain": [
       "True"
      ]
     },
     "execution_count": 23,
     "metadata": {},
     "output_type": "execute_result"
    }
   ],
   "source": [
    "False==0"
   ]
  },
  {
   "cell_type": "code",
   "execution_count": 24,
   "metadata": {},
   "outputs": [
    {
     "data": {
      "text/plain": [
       "True"
      ]
     },
     "execution_count": 24,
     "metadata": {},
     "output_type": "execute_result"
    }
   ],
   "source": [
    "\"faruk\"==\"faruk\""
   ]
  },
  {
   "cell_type": "code",
   "execution_count": 34,
   "metadata": {},
   "outputs": [
    {
     "data": {
      "text/plain": [
       "(71, 111, 110, 117, 108, 76)"
      ]
     },
     "execution_count": 34,
     "metadata": {},
     "output_type": "execute_result"
    }
   ],
   "source": [
    "ord(\"G\"),ord(\"o\"),ord(\"n\"),ord(\"u\"),ord(\"l\"),ord(\"L\") # harflerin ascii kodlari. str de kullanacagiz"
   ]
  },
  {
   "cell_type": "code",
   "execution_count": 38,
   "metadata": {},
   "outputs": [
    {
     "data": {
      "text/plain": [
       "'\"'"
      ]
     },
     "execution_count": 38,
     "metadata": {},
     "output_type": "execute_result"
    }
   ],
   "source": [
    "chr(34)  # buradada harfi yada ifadeleri getiriyor"
   ]
  },
  {
   "cell_type": "code",
   "execution_count": null,
   "metadata": {},
   "outputs": [
    {
     "data": {
      "text/plain": [
       "False"
      ]
     },
     "execution_count": 50,
     "metadata": {},
     "output_type": "execute_result"
    }
   ],
   "source": [
    "bool(0) # 0,0.0, None, False yazarsak false a cevirir\n"
   ]
  },
  {
   "cell_type": "code",
   "execution_count": null,
   "metadata": {},
   "outputs": [
    {
     "data": {
      "text/plain": [
       "False"
      ]
     },
     "execution_count": 55,
     "metadata": {},
     "output_type": "execute_result"
    }
   ],
   "source": [
    "not False #tersine ceviriyor. true yaniti verir\n",
    "not True #false yanitini verir.\n",
    "not \"Gonul\" #false\n",
    "not 0 #true\n",
    "not 1 #false"
   ]
  },
  {
   "cell_type": "code",
   "execution_count": null,
   "metadata": {},
   "outputs": [
    {
     "data": {
      "text/plain": [
       "'mnklejfk'"
      ]
     },
     "execution_count": 65,
     "metadata": {},
     "output_type": "execute_result"
    }
   ],
   "source": [
    "True and False #false\n",
    "False and True #false\n",
    "False and False #false\n",
    "True and True #true\n",
    "5 and 8 and 3 and \"mnklejfk\" # hepsi true ise en sonundakini yazdiriyor. eger degilse false yazdirir\n"
   ]
  },
  {
   "cell_type": "code",
   "execution_count": null,
   "metadata": {},
   "outputs": [
    {
     "name": "stdout",
     "output_type": "stream",
     "text": [
      "Abdullah\n"
     ]
    }
   ],
   "source": [
    "# immutable: yeniden atama yapincaya kadar degistirilemeyen \n",
    "a=\"Huseyin\"  \n",
    "a=\"Abdullah\"\n",
    "print(a)"
   ]
  },
  {
   "cell_type": "code",
   "execution_count": 72,
   "metadata": {},
   "outputs": [
    {
     "data": {
      "text/plain": [
       "'H'"
      ]
     },
     "execution_count": 72,
     "metadata": {},
     "output_type": "execute_result"
    }
   ],
   "source": [
    "#iterable: elemanlara ayirarak degistirilebilen\n",
    "a=\"Huseyin\" # 0 dan baslayarak siralandiriyor. en sondaki indekse -1 i kullanabiliyoruz\n",
    "a[-7]\n"
   ]
  },
  {
   "cell_type": "code",
   "execution_count": 78,
   "metadata": {},
   "outputs": [
    {
     "data": {
      "text/plain": [
       "'Huseyin Abdullah Maruf'"
      ]
     },
     "execution_count": 78,
     "metadata": {},
     "output_type": "execute_result"
    }
   ],
   "source": [
    "\"Huseyin\"+\" \"+\"Abdullah\"+\" \"+\"Maruf\"  #iki str ard arda toplandiginda birbirine ekler"
   ]
  },
  {
   "cell_type": "code",
   "execution_count": null,
   "metadata": {},
   "outputs": [
    {
     "data": {
      "text/plain": [
       "'Huseyin Huseyin Huseyin '"
      ]
     },
     "execution_count": 81,
     "metadata": {},
     "output_type": "execute_result"
    }
   ],
   "source": [
    "\"Huseyin \"*3   #carpma isleminde sonuc bu. float ile carpamiyoruz"
   ]
  },
  {
   "cell_type": "code",
   "execution_count": 104,
   "metadata": {},
   "outputs": [
    {
     "name": "stdout",
     "output_type": "stream",
     "text": [
      "uei\n",
      "uei\n",
      "ey\n",
      "ey\n",
      "Hsy\n",
      "Huseyin\n",
      "Hsyn\n",
      "niyesuH\n",
      "iy\n",
      "yes\n"
     ]
    }
   ],
   "source": [
    "a=\"Huseyin\"\n",
    "print(a[1]+a[3]+a[5])\n",
    "print(a[-6]+a[-4]+a[-2])\n",
    "print(a[3:5])  # 3 dahil 5 haric, 3 ten 5 kadar olan harfleri yazdirir.\n",
    "print(a[-4:-2])  # -2 yine dahil degil\n",
    "print(a[0:6:2])  #sondaki 2 atlama deger. yani atlayarak gider\n",
    "print(a[::])  # tum halini yazdirir\n",
    "print(a[::2])  #2 li atlayarak yazdirir tumunu \n",
    "print(a[::-1])  # tum ifadeyi tersine cevirir\n",
    "print(a[5:3:-1]) # ters cevirir. tekrar bak \n",
    "print(a[-3:-6:-1])\n",
    "\n"
   ]
  },
  {
   "cell_type": "code",
   "execution_count": null,
   "metadata": {},
   "outputs": [
    {
     "name": "stdout",
     "output_type": "stream",
     "text": [
      "HUSEYIN\n",
      "huseyin\n",
      "E\n",
      "Yes\n"
     ]
    }
   ],
   "source": [
    "a=\"Huseyin\"\n",
    "print(a.upper())  # tum harfleri buyuk yazar\n",
    "print(a.lower()) # tum harfleri kucuk yapar\n",
    "print(a[3].upper()) # istedigimiz harfi kucuk veya buyuk yapabiliyoruz\n",
    "print(a[4].upper()+a[3].lower()+a[2].lower()) # bu isleme concat diyoruz "
   ]
  }
 ],
 "metadata": {
  "kernelspec": {
   "display_name": "Python 3",
   "language": "python",
   "name": "python3"
  },
  "language_info": {
   "codemirror_mode": {
    "name": "ipython",
    "version": 3
   },
   "file_extension": ".py",
   "mimetype": "text/x-python",
   "name": "python",
   "nbconvert_exporter": "python",
   "pygments_lexer": "ipython3",
   "version": "3.13.1"
  }
 },
 "nbformat": 4,
 "nbformat_minor": 2
}
