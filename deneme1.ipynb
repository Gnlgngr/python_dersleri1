{
 "cells": [
  {
   "cell_type": "code",
   "execution_count": null,
   "metadata": {},
   "outputs": [
    {
     "name": "stdout",
     "output_type": "stream",
     "text": [
      "yasiniz : 35\n"
     ]
    }
   ],
   "source": [
    "a=input(\"Lutfen yasinizi giriniz :\") #eger input varsa disaridn alinan bir deger vardir \n",
    "print(\"yasiniz :\",a)"
   ]
  },
  {
   "cell_type": "code",
   "execution_count": 5,
   "metadata": {},
   "outputs": [
    {
     "name": "stdout",
     "output_type": "stream",
     "text": [
      "<class 'int'>\n",
      "Dogum yiliniz : 1988\n"
     ]
    }
   ],
   "source": [
    "a=int(input(\"Lutfen yasinizi giriniz:\")) # ifademiz str old icin sayi degeri girileceginden dolayi int e cevirdik \n",
    "print(type(a))\n",
    "print(\"Dogum yiliniz :\", 2025-a )"
   ]
  },
  {
   "cell_type": "code",
   "execution_count": null,
   "metadata": {},
   "outputs": [
    {
     "name": "stdout",
     "output_type": "stream",
     "text": [
      "ort indeks: 18.36547291092746\n"
     ]
    }
   ],
   "source": [
    "boy=float(input(\"Lutfen boyunuzu giriniz:\"))\n",
    "kilo=int(input(\"Lutfen kilonuzu giriniz:\"))\n",
    "indeks=kilo/((boy/100)**2) \n",
    "print(\"ort indeks:\", indeks)"
   ]
  },
  {
   "cell_type": "code",
   "execution_count": null,
   "metadata": {},
   "outputs": [
    {
     "name": "stdout",
     "output_type": "stream",
     "text": [
      "ort indeks: 21.64412070759625\n",
      "kilonuz normal\n"
     ]
    }
   ],
   "source": [
    "boy=float(input(\"Lutfen boyunuzu cm olarak giriniz:\"))\n",
    "kilo=int(input(\"Lutfen kilonuzu giriniz:\"))\n",
    "indeks=kilo/((boy/100)**2)\n",
    "print(\"ort indeks:\", indeks)\n",
    "if(indeks > 30):  # if in sonundaki (:) unutmayacagiz \n",
    "    print(\"obezsiniz\")\n",
    "\n",
    "else:\n",
    "    print(\"kilonuz normal\")\n",
    "\n",
    "\n"
   ]
  },
  {
   "cell_type": "code",
   "execution_count": 6,
   "metadata": {},
   "outputs": [
    {
     "name": "stdout",
     "output_type": "stream",
     "text": [
      "ort indeks: 55.55555555555556\n",
      "super obez\n"
     ]
    }
   ],
   "source": [
    "boy=float(input(\"Lutfen boyunuzu cm olarak giriniz:\"))\n",
    "kilo=int(input(\"Lutfen kilonuzu giriniz:\"))\n",
    "indeks=kilo/((boy/100)**2)\n",
    "print(\"ort indeks:\", indeks)\n",
    "if(indeks<18.5):   #if ile else arasindaki olasiliklar elif olur.\n",
    "    print(\"zayifsin\")\n",
    "elif(18.5<=indeks<=24.9):\n",
    "    print(\"normal kilolu\")\n",
    "\n",
    "elif(25<=indeks<=29.9):\n",
    "    print(\"fazla kilolu\")\n",
    "elif(30<=indeks<=40):\n",
    "    print(\"obez\")\n",
    "\n",
    "else:\n",
    "    print(\"super obez\")        "
   ]
  },
  {
   "cell_type": "code",
   "execution_count": 8,
   "metadata": {},
   "outputs": [
    {
     "name": "stdout",
     "output_type": "stream",
     "text": [
      "Girdiginizin degerin USD karsiligi :  223.1\n"
     ]
    }
   ],
   "source": [
    "para_birimi=str(input(\"Lutfen para birimini giriniz(Euro/Dolar):\"))\n",
    "para_miktari=int(input(\"Lutfen para miktarini giriniz:\"))\n",
    "if(para_birimi==\"Euro\"):   #== degisken olmuyor\n",
    "    print(\"Girdiginiz degerin EURO karsiligi :\", para_miktari*1.03)\n",
    "else:\n",
    "    print(\"Girdiginizin degerin USD karsiligi : \", para_miktari*0.97)  \n",
    "\n",
    "\n",
    "\n"
   ]
  },
  {
   "cell_type": "code",
   "execution_count": 10,
   "metadata": {},
   "outputs": [
    {
     "name": "stdout",
     "output_type": "stream",
     "text": [
      "Simdiki maasiniz: 19552\n",
      "%5 zamli yeni maasiniz 20529.600000000002\n"
     ]
    }
   ],
   "source": [
    "maas=int(input(\"lutfen maasinizi giriniz:\"))\n",
    "print(\"Simdiki maasiniz:\",maas)\n",
    "if(0<maas<4200):\n",
    "    print(\"chomage`a basvurun\")\n",
    "elif(4200<maas<7000):\n",
    "    print(\"%25 zamli yeni maasiniz\",maas*1.25)\n",
    "elif(7000<maas<10000):\n",
    "    print(\"%10 zamli yeni maasiniz\",maas*1.10)\n",
    "elif(10000<maas<20000):\n",
    "    print(\"%5 zamli yeni maasiniz\", maas*1.05)\n",
    "else:\n",
    "    print(\"Geliriniz maas zammi icin uygun kriterlerde degildir.\")            "
   ]
  }
 ],
 "metadata": {
  "kernelspec": {
   "display_name": "Python 3",
   "language": "python",
   "name": "python3"
  },
  "language_info": {
   "codemirror_mode": {
    "name": "ipython",
    "version": 3
   },
   "file_extension": ".py",
   "mimetype": "text/x-python",
   "name": "python",
   "nbconvert_exporter": "python",
   "pygments_lexer": "ipython3",
   "version": "3.13.1"
  }
 },
 "nbformat": 4,
 "nbformat_minor": 2
}
