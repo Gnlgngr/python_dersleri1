{
 "cells": [
  {
   "cell_type": "code",
   "execution_count": null,
   "metadata": {},
   "outputs": [
    {
     "name": "stdout",
     "output_type": "stream",
     "text": [
      "sayi bolumu: 4.0\n"
     ]
    }
   ],
   "source": [
    "a=int(input(\"lutfen birinci sayisi giriniz\"))\n",
    "   \n",
    "b=int(input(\"lutfen ikinci sayisi giriniz\"))  \n",
    "islem=input(\"islem giriniz\")\n",
    "\n",
    "if(islem==\"*\"):\n",
    "    print(\"islem carpma sonucu:\", a*b)\n",
    "elif(islem==\"-\"):\n",
    "    print(\"islem cikarma sonucu:\", a-b)\n",
    "elif(islem==\"+\"):\n",
    "    print(\"islem top sonucu:\", a+b)    \n",
    "elif(islem==\"/\" and b==0):     # and ayrica bir islem daha yapinca koyuyoruz.\n",
    "    print(\"sayi bolunemez\")\n",
    "else:\n",
    "    print(\"sayi bolumu:\", a/b)    \n",
    "\n",
    "    \n",
    "\n"
   ]
  },
  {
   "cell_type": "code",
   "execution_count": null,
   "metadata": {},
   "outputs": [
    {
     "data": {
      "text/plain": [
       "'c:\\\\Users\\\\PC\\\\Desktop\\\\VSCode'"
      ]
     },
     "execution_count": 6,
     "metadata": {},
     "output_type": "execute_result"
    }
   ],
   "source": [
    "# import \n",
    "# getcwd OS kutuphanesi \n",
    "import os\n",
    "os.getcwd()  #hangi klasorde yada nerede calistigimizi gosterir"
   ]
  },
  {
   "cell_type": "code",
   "execution_count": null,
   "metadata": {},
   "outputs": [
    {
     "name": "stdout",
     "output_type": "stream",
     "text": [
      " \n",
      "      birinci basamak \n",
      "      ikinci basamak\n",
      "      ucuncu basamak\n",
      " aaa \n",
      " bbb \n",
      " ccc\n"
     ]
    }
   ],
   "source": [
    "print(\"\"\" \n",
    "      birinci basamak \n",
    "      ikinci basamak\n",
    "      ucuncu basamak\"\"\")\n",
    "\n",
    "print(\" aaa \\n bbb \\n ccc\") #  \\n ile tek tirnakla alt satira gecirebiliriz\n",
    "\n"
   ]
  },
  {
   "cell_type": "code",
   "execution_count": null,
   "metadata": {},
   "outputs": [
    {
     "name": "stdout",
     "output_type": "stream",
     "text": [
      "Faruk\n",
      "Gonul\n",
      "Fatma\n",
      "Faruk*Gonul*Fatma\n",
      "Faruk-Gonul-Fatma\n",
      "Faruk nasilsin? \n",
      "Gonul nasilsin? \n",
      "Fatma  nasilsin? \n",
      "\n",
      "150CHF \n",
      "200CHF \n",
      "300CHF \n",
      "\n"
     ]
    }
   ],
   "source": [
    "print(\"Faruk\",\"Gonul\",\"Fatma\",sep=\"\\n\") # sep=\"\\n\" ile alt alta yazdirma islemi yapabiliyoruz.\n",
    "print(\"Faruk\",\"Gonul\",\"Fatma\",sep=\"*\")\n",
    "print(\"Faruk\",\"Gonul\",\"Fatma\",sep=\"-\")\n",
    "print(\"Faruk\",\"Gonul\",\"Fatma \",\"\", sep=\" nasilsin? \\n\")\n",
    "print(\"150\",\"200\",\"300\",\"\",sep=\"CHF \\n\" )\n"
   ]
  },
  {
   "cell_type": "code",
   "execution_count": null,
   "metadata": {},
   "outputs": [
    {
     "name": "stdout",
     "output_type": "stream",
     "text": [
      "Faruk nasilsin \tGonul nasilsin \tFatma nasilsin \t\n"
     ]
    }
   ],
   "source": [
    "print(\"Faruk\",\"Gonul\",\"Fatma\",\"\", sep=\" nasilsin \\t\") # \\t bir tab bosluk birakarak yanyana yazdirir"
   ]
  },
  {
   "cell_type": "code",
   "execution_count": 32,
   "metadata": {},
   "outputs": [
    {
     "name": "stdout",
     "output_type": "stream",
     "text": [
      "Faruk cok guzel bakla yapar.\n",
      "FaruGonuFatm\n",
      "FarubGonubFatmb\n",
      "FarukbGonulbFatmab\n"
     ]
    }
   ],
   "source": [
    "#\\b kendinden onceki bir karakteri siler\n",
    "print(\"Faruk cok guzel baklav\\ba\\b yapar.\")\n",
    "print(\"Faruk\",\"Gonul\",\"Fatma\",\"\",sep=\"\\b\") \n",
    "print(\"Faruk\",\"Gonul\",\"Fatma\",\"\",sep=\"\\bb\")\n",
    "print(\"Faruk\",\"Gonul\",\"Fatma\",\"\",sep=\" \\bb\")"
   ]
  },
  {
   "cell_type": "code",
   "execution_count": null,
   "metadata": {},
   "outputs": [],
   "source": []
  }
 ],
 "metadata": {
  "kernelspec": {
   "display_name": "Python 3",
   "language": "python",
   "name": "python3"
  },
  "language_info": {
   "codemirror_mode": {
    "name": "ipython",
    "version": 3
   },
   "file_extension": ".py",
   "mimetype": "text/x-python",
   "name": "python",
   "nbconvert_exporter": "python",
   "pygments_lexer": "ipython3",
   "version": "3.13.1"
  }
 },
 "nbformat": 4,
 "nbformat_minor": 2
}
