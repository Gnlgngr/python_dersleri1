{
 "cells": [
  {
   "cell_type": "code",
   "execution_count": 6,
   "metadata": {},
   "outputs": [
    {
     "name": "stdout",
     "output_type": "stream",
     "text": [
      "sayi: 9\n",
      "sayi pozitifdir.\n"
     ]
    }
   ],
   "source": [
    "sayi=int(input(\"sayi degerini giriniz:\"))\n",
    "print(\"sayi:\",sayi)\n",
    "if(sayi>0):\n",
    "    print(\"sayi pozitifdir.\")\n",
    "elif(sayi<0):\n",
    "    print(\"sayi negatifdir.\")\n",
    "else:\n",
    "    print(\"sayi 0`dir.\")        "
   ]
  },
  {
   "cell_type": "code",
   "execution_count": 8,
   "metadata": {},
   "outputs": [
    {
     "name": "stdout",
     "output_type": "stream",
     "text": [
      "yasiniz: 69\n",
      "Yasliniz.\n"
     ]
    }
   ],
   "source": [
    "yas=int(input(\"yasinizi giriniz:\"))\n",
    "print(\"yasiniz:\",yas)\n",
    "if(0<yas<12):\n",
    "    print(\"Cocuksunuz.\")\n",
    "elif(13<yas<19):\n",
    "    print(\"Gencsiniz.\")\n",
    "elif(20<yas<59):\n",
    "    print(\"Yetiskiniz.\")\n",
    "else:\n",
    "    print(\"Yasliniz.\")            "
   ]
  },
  {
   "cell_type": "code",
   "execution_count": 11,
   "metadata": {},
   "outputs": [
    {
     "name": "stdout",
     "output_type": "stream",
     "text": [
      "sifreniz basarisiz.\n"
     ]
    }
   ],
   "source": [
    "sifre=\"python123\"\n",
    "yeni=input(\"sifeyi giriniz:\")\n",
    "if(sifre==yeni):\n",
    "    print(\"sifreniz basarili.\")\n",
    "else:\n",
    "    print(\"sifreniz basarisiz.\")    "
   ]
  },
  {
   "cell_type": "code",
   "execution_count": 14,
   "metadata": {},
   "outputs": [
    {
     "name": "stdout",
     "output_type": "stream",
     "text": [
      "sayiniz: 13\n",
      "sayiniz tekdir.\n"
     ]
    }
   ],
   "source": [
    "sayi=int(input(\"sayiyi giriniz:\"))\n",
    "print(\"sayiniz:\",sayi)\n",
    "if(sayi%2==0):\n",
    "    print(\"sayiniz pozitifdir.\")\n",
    "else:\n",
    "    print(\"sayiniz tekdir.\")    "
   ]
  }
 ],
 "metadata": {
  "kernelspec": {
   "display_name": "Python 3",
   "language": "python",
   "name": "python3"
  },
  "language_info": {
   "codemirror_mode": {
    "name": "ipython",
    "version": 3
   },
   "file_extension": ".py",
   "mimetype": "text/x-python",
   "name": "python",
   "nbconvert_exporter": "python",
   "pygments_lexer": "ipython3",
   "version": "3.13.1"
  }
 },
 "nbformat": 4,
 "nbformat_minor": 2
}
